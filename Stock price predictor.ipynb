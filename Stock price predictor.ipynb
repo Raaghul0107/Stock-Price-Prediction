{
 "cells": [
  {
   "cell_type": "markdown",
   "metadata": {},
   "source": [
    "I am going to use LSTM, an artificial recurrent neural network to predict the closing price of an company's stock price using data from last 90 days."
   ]
  },
  {
   "cell_type": "code",
   "execution_count": 45,
   "metadata": {},
   "outputs": [
    {
     "name": "stdout",
     "output_type": "stream",
     "text": [
      "\n",
      "\u001b[1m[\u001b[0m\u001b[34;49mnotice\u001b[0m\u001b[1;39;49m]\u001b[0m\u001b[39;49m A new release of pip is available: \u001b[0m\u001b[31;49m23.3.2\u001b[0m\u001b[39;49m -> \u001b[0m\u001b[32;49m24.3.1\u001b[0m\n",
      "\u001b[1m[\u001b[0m\u001b[34;49mnotice\u001b[0m\u001b[1;39;49m]\u001b[0m\u001b[39;49m To update, run: \u001b[0m\u001b[32;49mpip install --upgrade pip\u001b[0m\n",
      "Requirement already satisfied: tensorflow in ./lib/python3.12/site-packages (2.18.0)\n",
      "Requirement already satisfied: absl-py>=1.0.0 in ./lib/python3.12/site-packages (from tensorflow) (2.1.0)\n",
      "Requirement already satisfied: astunparse>=1.6.0 in ./lib/python3.12/site-packages (from tensorflow) (1.6.3)\n",
      "Requirement already satisfied: flatbuffers>=24.3.25 in ./lib/python3.12/site-packages (from tensorflow) (24.3.25)\n",
      "Requirement already satisfied: gast!=0.5.0,!=0.5.1,!=0.5.2,>=0.2.1 in ./lib/python3.12/site-packages (from tensorflow) (0.6.0)\n",
      "Requirement already satisfied: google-pasta>=0.1.1 in ./lib/python3.12/site-packages (from tensorflow) (0.2.0)\n",
      "Requirement already satisfied: libclang>=13.0.0 in ./lib/python3.12/site-packages (from tensorflow) (18.1.1)\n",
      "Requirement already satisfied: opt-einsum>=2.3.2 in ./lib/python3.12/site-packages (from tensorflow) (3.4.0)\n",
      "Requirement already satisfied: packaging in ./lib/python3.12/site-packages (from tensorflow) (23.2)\n",
      "Requirement already satisfied: protobuf!=4.21.0,!=4.21.1,!=4.21.2,!=4.21.3,!=4.21.4,!=4.21.5,<6.0.0dev,>=3.20.3 in ./lib/python3.12/site-packages (from tensorflow) (5.28.3)\n",
      "Requirement already satisfied: requests<3,>=2.21.0 in ./lib/python3.12/site-packages (from tensorflow) (2.31.0)\n",
      "Requirement already satisfied: setuptools in ./lib/python3.12/site-packages (from tensorflow) (69.0.3)\n",
      "Requirement already satisfied: six>=1.12.0 in ./lib/python3.12/site-packages (from tensorflow) (1.16.0)\n",
      "Requirement already satisfied: termcolor>=1.1.0 in ./lib/python3.12/site-packages (from tensorflow) (2.5.0)\n",
      "Requirement already satisfied: typing-extensions>=3.6.6 in ./lib/python3.12/site-packages (from tensorflow) (4.9.0)\n",
      "Requirement already satisfied: wrapt>=1.11.0 in ./lib/python3.12/site-packages (from tensorflow) (1.16.0)\n",
      "Requirement already satisfied: grpcio<2.0,>=1.24.3 in ./lib/python3.12/site-packages (from tensorflow) (1.68.0)\n",
      "Requirement already satisfied: tensorboard<2.19,>=2.18 in ./lib/python3.12/site-packages (from tensorflow) (2.18.0)\n",
      "Requirement already satisfied: keras>=3.5.0 in ./lib/python3.12/site-packages (from tensorflow) (3.6.0)\n",
      "Requirement already satisfied: numpy<2.1.0,>=1.26.0 in ./lib/python3.12/site-packages (from tensorflow) (1.26.2)\n",
      "Requirement already satisfied: h5py>=3.11.0 in ./lib/python3.12/site-packages (from tensorflow) (3.12.1)\n",
      "Requirement already satisfied: ml-dtypes<0.5.0,>=0.4.0 in ./lib/python3.12/site-packages (from tensorflow) (0.4.1)\n",
      "Requirement already satisfied: wheel<1.0,>=0.23.0 in ./lib/python3.12/site-packages (from astunparse>=1.6.0->tensorflow) (0.45.0)\n",
      "Requirement already satisfied: rich in ./lib/python3.12/site-packages (from keras>=3.5.0->tensorflow) (13.9.4)\n",
      "Requirement already satisfied: namex in ./lib/python3.12/site-packages (from keras>=3.5.0->tensorflow) (0.0.8)\n",
      "Requirement already satisfied: optree in ./lib/python3.12/site-packages (from keras>=3.5.0->tensorflow) (0.13.1)\n",
      "Requirement already satisfied: charset-normalizer<4,>=2 in ./lib/python3.12/site-packages (from requests<3,>=2.21.0->tensorflow) (3.3.2)\n",
      "Requirement already satisfied: idna<4,>=2.5 in ./lib/python3.12/site-packages (from requests<3,>=2.21.0->tensorflow) (3.6)\n",
      "Requirement already satisfied: urllib3<3,>=1.21.1 in ./lib/python3.12/site-packages (from requests<3,>=2.21.0->tensorflow) (2.1.0)\n",
      "Requirement already satisfied: certifi>=2017.4.17 in ./lib/python3.12/site-packages (from requests<3,>=2.21.0->tensorflow) (2023.11.17)\n",
      "Requirement already satisfied: markdown>=2.6.8 in ./lib/python3.12/site-packages (from tensorboard<2.19,>=2.18->tensorflow) (3.7)\n",
      "Requirement already satisfied: tensorboard-data-server<0.8.0,>=0.7.0 in ./lib/python3.12/site-packages (from tensorboard<2.19,>=2.18->tensorflow) (0.7.2)\n",
      "Requirement already satisfied: werkzeug>=1.0.1 in ./lib/python3.12/site-packages (from tensorboard<2.19,>=2.18->tensorflow) (3.1.3)\n",
      "Requirement already satisfied: MarkupSafe>=2.1.1 in ./lib/python3.12/site-packages (from werkzeug>=1.0.1->tensorboard<2.19,>=2.18->tensorflow) (2.1.4)\n",
      "Requirement already satisfied: markdown-it-py>=2.2.0 in ./lib/python3.12/site-packages (from rich->keras>=3.5.0->tensorflow) (3.0.0)\n",
      "Requirement already satisfied: pygments<3.0.0,>=2.13.0 in ./lib/python3.12/site-packages (from rich->keras>=3.5.0->tensorflow) (2.17.2)\n",
      "Requirement already satisfied: mdurl~=0.1 in ./lib/python3.12/site-packages (from markdown-it-py>=2.2.0->rich->keras>=3.5.0->tensorflow) (0.1.2)\n",
      "\n",
      "\u001b[1m[\u001b[0m\u001b[34;49mnotice\u001b[0m\u001b[1;39;49m]\u001b[0m\u001b[39;49m A new release of pip is available: \u001b[0m\u001b[31;49m23.3.2\u001b[0m\u001b[39;49m -> \u001b[0m\u001b[32;49m24.3.1\u001b[0m\n",
      "\u001b[1m[\u001b[0m\u001b[34;49mnotice\u001b[0m\u001b[1;39;49m]\u001b[0m\u001b[39;49m To update, run: \u001b[0m\u001b[32;49mpip install --upgrade pip\u001b[0m\n"
     ]
    }
   ],
   "source": [
    "!pip install -q yfinance\n",
    "!pip install tensorflow\n",
    "import math\n",
    "import pandas as pd\n",
    "import numpy as np\n",
    "import pandas_datareader as web\n",
    "import matplotlib.pyplot as plt\n",
    "import yfinance as yf\n",
    "from sklearn.preprocessing import MinMaxScaler\n",
    "from tensorflow.keras.models import Sequential\n",
    "from tensorflow.keras.layers import Dense,LSTM"
   ]
  },
  {
   "cell_type": "markdown",
   "metadata": {},
   "source": [
    "import data from yahoo"
   ]
  },
  {
   "cell_type": "code",
   "execution_count": 7,
   "metadata": {},
   "outputs": [
    {
     "name": "stderr",
     "output_type": "stream",
     "text": [
      "[*********************100%***********************]  1 of 1 completed\n"
     ]
    },
    {
     "data": {
      "text/html": [
       "<div>\n",
       "<style scoped>\n",
       "    .dataframe tbody tr th:only-of-type {\n",
       "        vertical-align: middle;\n",
       "    }\n",
       "\n",
       "    .dataframe tbody tr th {\n",
       "        vertical-align: top;\n",
       "    }\n",
       "\n",
       "    .dataframe thead tr th {\n",
       "        text-align: left;\n",
       "    }\n",
       "\n",
       "    .dataframe thead tr:last-of-type th {\n",
       "        text-align: right;\n",
       "    }\n",
       "</style>\n",
       "<table border=\"1\" class=\"dataframe\">\n",
       "  <thead>\n",
       "    <tr>\n",
       "      <th>Price</th>\n",
       "      <th>Adj Close</th>\n",
       "      <th>Close</th>\n",
       "      <th>High</th>\n",
       "      <th>Low</th>\n",
       "      <th>Open</th>\n",
       "      <th>Volume</th>\n",
       "    </tr>\n",
       "    <tr>\n",
       "      <th>Ticker</th>\n",
       "      <th>TSLA</th>\n",
       "      <th>TSLA</th>\n",
       "      <th>TSLA</th>\n",
       "      <th>TSLA</th>\n",
       "      <th>TSLA</th>\n",
       "      <th>TSLA</th>\n",
       "    </tr>\n",
       "    <tr>\n",
       "      <th>Date</th>\n",
       "      <th></th>\n",
       "      <th></th>\n",
       "      <th></th>\n",
       "      <th></th>\n",
       "      <th></th>\n",
       "      <th></th>\n",
       "    </tr>\n",
       "  </thead>\n",
       "  <tbody>\n",
       "    <tr>\n",
       "      <th>2017-01-03 00:00:00+00:00</th>\n",
       "      <td>14.466000</td>\n",
       "      <td>14.466000</td>\n",
       "      <td>14.688667</td>\n",
       "      <td>14.064000</td>\n",
       "      <td>14.324000</td>\n",
       "      <td>88849500</td>\n",
       "    </tr>\n",
       "    <tr>\n",
       "      <th>2017-01-04 00:00:00+00:00</th>\n",
       "      <td>15.132667</td>\n",
       "      <td>15.132667</td>\n",
       "      <td>15.200000</td>\n",
       "      <td>14.287333</td>\n",
       "      <td>14.316667</td>\n",
       "      <td>168202500</td>\n",
       "    </tr>\n",
       "    <tr>\n",
       "      <th>2017-01-05 00:00:00+00:00</th>\n",
       "      <td>15.116667</td>\n",
       "      <td>15.116667</td>\n",
       "      <td>15.165333</td>\n",
       "      <td>14.796667</td>\n",
       "      <td>15.094667</td>\n",
       "      <td>88675500</td>\n",
       "    </tr>\n",
       "    <tr>\n",
       "      <th>2017-01-06 00:00:00+00:00</th>\n",
       "      <td>15.267333</td>\n",
       "      <td>15.267333</td>\n",
       "      <td>15.354000</td>\n",
       "      <td>15.030000</td>\n",
       "      <td>15.128667</td>\n",
       "      <td>82918500</td>\n",
       "    </tr>\n",
       "    <tr>\n",
       "      <th>2017-01-09 00:00:00+00:00</th>\n",
       "      <td>15.418667</td>\n",
       "      <td>15.418667</td>\n",
       "      <td>15.461333</td>\n",
       "      <td>15.200000</td>\n",
       "      <td>15.264667</td>\n",
       "      <td>59692500</td>\n",
       "    </tr>\n",
       "    <tr>\n",
       "      <th>...</th>\n",
       "      <td>...</td>\n",
       "      <td>...</td>\n",
       "      <td>...</td>\n",
       "      <td>...</td>\n",
       "      <td>...</td>\n",
       "      <td>...</td>\n",
       "    </tr>\n",
       "    <tr>\n",
       "      <th>2024-11-11 00:00:00+00:00</th>\n",
       "      <td>350.000000</td>\n",
       "      <td>350.000000</td>\n",
       "      <td>358.640015</td>\n",
       "      <td>336.000000</td>\n",
       "      <td>346.299988</td>\n",
       "      <td>210521600</td>\n",
       "    </tr>\n",
       "    <tr>\n",
       "      <th>2024-11-12 00:00:00+00:00</th>\n",
       "      <td>328.489990</td>\n",
       "      <td>328.489990</td>\n",
       "      <td>345.839996</td>\n",
       "      <td>323.309998</td>\n",
       "      <td>342.739990</td>\n",
       "      <td>155726000</td>\n",
       "    </tr>\n",
       "    <tr>\n",
       "      <th>2024-11-13 00:00:00+00:00</th>\n",
       "      <td>330.239990</td>\n",
       "      <td>330.239990</td>\n",
       "      <td>344.600006</td>\n",
       "      <td>322.500000</td>\n",
       "      <td>335.850006</td>\n",
       "      <td>125405600</td>\n",
       "    </tr>\n",
       "    <tr>\n",
       "      <th>2024-11-14 00:00:00+00:00</th>\n",
       "      <td>311.179993</td>\n",
       "      <td>311.179993</td>\n",
       "      <td>329.980011</td>\n",
       "      <td>310.369995</td>\n",
       "      <td>327.690002</td>\n",
       "      <td>120726100</td>\n",
       "    </tr>\n",
       "    <tr>\n",
       "      <th>2024-11-15 00:00:00+00:00</th>\n",
       "      <td>320.720001</td>\n",
       "      <td>320.720001</td>\n",
       "      <td>324.679993</td>\n",
       "      <td>309.220001</td>\n",
       "      <td>310.570007</td>\n",
       "      <td>114440300</td>\n",
       "    </tr>\n",
       "  </tbody>\n",
       "</table>\n",
       "<p>1982 rows × 6 columns</p>\n",
       "</div>"
      ],
      "text/plain": [
       "Price                       Adj Close       Close        High         Low  \\\n",
       "Ticker                           TSLA        TSLA        TSLA        TSLA   \n",
       "Date                                                                        \n",
       "2017-01-03 00:00:00+00:00   14.466000   14.466000   14.688667   14.064000   \n",
       "2017-01-04 00:00:00+00:00   15.132667   15.132667   15.200000   14.287333   \n",
       "2017-01-05 00:00:00+00:00   15.116667   15.116667   15.165333   14.796667   \n",
       "2017-01-06 00:00:00+00:00   15.267333   15.267333   15.354000   15.030000   \n",
       "2017-01-09 00:00:00+00:00   15.418667   15.418667   15.461333   15.200000   \n",
       "...                               ...         ...         ...         ...   \n",
       "2024-11-11 00:00:00+00:00  350.000000  350.000000  358.640015  336.000000   \n",
       "2024-11-12 00:00:00+00:00  328.489990  328.489990  345.839996  323.309998   \n",
       "2024-11-13 00:00:00+00:00  330.239990  330.239990  344.600006  322.500000   \n",
       "2024-11-14 00:00:00+00:00  311.179993  311.179993  329.980011  310.369995   \n",
       "2024-11-15 00:00:00+00:00  320.720001  320.720001  324.679993  309.220001   \n",
       "\n",
       "Price                            Open     Volume  \n",
       "Ticker                           TSLA       TSLA  \n",
       "Date                                              \n",
       "2017-01-03 00:00:00+00:00   14.324000   88849500  \n",
       "2017-01-04 00:00:00+00:00   14.316667  168202500  \n",
       "2017-01-05 00:00:00+00:00   15.094667   88675500  \n",
       "2017-01-06 00:00:00+00:00   15.128667   82918500  \n",
       "2017-01-09 00:00:00+00:00   15.264667   59692500  \n",
       "...                               ...        ...  \n",
       "2024-11-11 00:00:00+00:00  346.299988  210521600  \n",
       "2024-11-12 00:00:00+00:00  342.739990  155726000  \n",
       "2024-11-13 00:00:00+00:00  335.850006  125405600  \n",
       "2024-11-14 00:00:00+00:00  327.690002  120726100  \n",
       "2024-11-15 00:00:00+00:00  310.570007  114440300  \n",
       "\n",
       "[1982 rows x 6 columns]"
      ]
     },
     "execution_count": 7,
     "metadata": {},
     "output_type": "execute_result"
    }
   ],
   "source": [
    "df = yf.download('TSLA', start='2017-01-01', end='2024-11-18')\n",
    "df"
   ]
  },
  {
   "cell_type": "markdown",
   "metadata": {},
   "source": [
    "number of rows and columns"
   ]
  },
  {
   "cell_type": "code",
   "execution_count": 8,
   "metadata": {},
   "outputs": [
    {
     "data": {
      "text/plain": [
       "(1982, 6)"
      ]
     },
     "execution_count": 8,
     "metadata": {},
     "output_type": "execute_result"
    }
   ],
   "source": [
    "df.shape"
   ]
  },
  {
   "cell_type": "code",
   "execution_count": 9,
   "metadata": {},
   "outputs": [
    {
     "data": {
      "text/html": [
       "<div>\n",
       "<style scoped>\n",
       "    .dataframe tbody tr th:only-of-type {\n",
       "        vertical-align: middle;\n",
       "    }\n",
       "\n",
       "    .dataframe tbody tr th {\n",
       "        vertical-align: top;\n",
       "    }\n",
       "\n",
       "    .dataframe thead tr th {\n",
       "        text-align: left;\n",
       "    }\n",
       "</style>\n",
       "<table border=\"1\" class=\"dataframe\">\n",
       "  <thead>\n",
       "    <tr>\n",
       "      <th>Price</th>\n",
       "      <th>Adj Close</th>\n",
       "      <th>Close</th>\n",
       "      <th>High</th>\n",
       "      <th>Low</th>\n",
       "      <th>Open</th>\n",
       "      <th>Volume</th>\n",
       "    </tr>\n",
       "    <tr>\n",
       "      <th>Ticker</th>\n",
       "      <th>TSLA</th>\n",
       "      <th>TSLA</th>\n",
       "      <th>TSLA</th>\n",
       "      <th>TSLA</th>\n",
       "      <th>TSLA</th>\n",
       "      <th>TSLA</th>\n",
       "    </tr>\n",
       "  </thead>\n",
       "  <tbody>\n",
       "    <tr>\n",
       "      <th>count</th>\n",
       "      <td>1982.000000</td>\n",
       "      <td>1982.000000</td>\n",
       "      <td>1982.000000</td>\n",
       "      <td>1982.000000</td>\n",
       "      <td>1982.000000</td>\n",
       "      <td>1.982000e+03</td>\n",
       "    </tr>\n",
       "    <tr>\n",
       "      <th>mean</th>\n",
       "      <td>137.160236</td>\n",
       "      <td>137.160236</td>\n",
       "      <td>140.217721</td>\n",
       "      <td>133.964260</td>\n",
       "      <td>137.186828</td>\n",
       "      <td>1.242315e+08</td>\n",
       "    </tr>\n",
       "    <tr>\n",
       "      <th>std</th>\n",
       "      <td>110.927495</td>\n",
       "      <td>110.927495</td>\n",
       "      <td>113.484857</td>\n",
       "      <td>108.330953</td>\n",
       "      <td>111.029044</td>\n",
       "      <td>7.715212e+07</td>\n",
       "    </tr>\n",
       "    <tr>\n",
       "      <th>min</th>\n",
       "      <td>11.931333</td>\n",
       "      <td>11.931333</td>\n",
       "      <td>12.445333</td>\n",
       "      <td>11.799333</td>\n",
       "      <td>12.073333</td>\n",
       "      <td>2.940180e+07</td>\n",
       "    </tr>\n",
       "    <tr>\n",
       "      <th>25%</th>\n",
       "      <td>21.783000</td>\n",
       "      <td>21.783000</td>\n",
       "      <td>22.107500</td>\n",
       "      <td>21.363667</td>\n",
       "      <td>21.696666</td>\n",
       "      <td>7.617870e+07</td>\n",
       "    </tr>\n",
       "    <tr>\n",
       "      <th>50%</th>\n",
       "      <td>147.318329</td>\n",
       "      <td>147.318329</td>\n",
       "      <td>150.886665</td>\n",
       "      <td>143.261665</td>\n",
       "      <td>147.558334</td>\n",
       "      <td>1.032990e+08</td>\n",
       "    </tr>\n",
       "    <tr>\n",
       "      <th>75%</th>\n",
       "      <td>233.939167</td>\n",
       "      <td>233.939167</td>\n",
       "      <td>238.484169</td>\n",
       "      <td>228.194996</td>\n",
       "      <td>233.839996</td>\n",
       "      <td>1.426049e+08</td>\n",
       "    </tr>\n",
       "    <tr>\n",
       "      <th>max</th>\n",
       "      <td>409.970001</td>\n",
       "      <td>409.970001</td>\n",
       "      <td>414.496674</td>\n",
       "      <td>405.666656</td>\n",
       "      <td>411.470001</td>\n",
       "      <td>9.140820e+08</td>\n",
       "    </tr>\n",
       "  </tbody>\n",
       "</table>\n",
       "</div>"
      ],
      "text/plain": [
       "Price     Adj Close        Close         High          Low         Open  \\\n",
       "Ticker         TSLA         TSLA         TSLA         TSLA         TSLA   \n",
       "count   1982.000000  1982.000000  1982.000000  1982.000000  1982.000000   \n",
       "mean     137.160236   137.160236   140.217721   133.964260   137.186828   \n",
       "std      110.927495   110.927495   113.484857   108.330953   111.029044   \n",
       "min       11.931333    11.931333    12.445333    11.799333    12.073333   \n",
       "25%       21.783000    21.783000    22.107500    21.363667    21.696666   \n",
       "50%      147.318329   147.318329   150.886665   143.261665   147.558334   \n",
       "75%      233.939167   233.939167   238.484169   228.194996   233.839996   \n",
       "max      409.970001   409.970001   414.496674   405.666656   411.470001   \n",
       "\n",
       "Price         Volume  \n",
       "Ticker          TSLA  \n",
       "count   1.982000e+03  \n",
       "mean    1.242315e+08  \n",
       "std     7.715212e+07  \n",
       "min     2.940180e+07  \n",
       "25%     7.617870e+07  \n",
       "50%     1.032990e+08  \n",
       "75%     1.426049e+08  \n",
       "max     9.140820e+08  "
      ]
     },
     "execution_count": 9,
     "metadata": {},
     "output_type": "execute_result"
    }
   ],
   "source": [
    "df.describe()"
   ]
  },
  {
   "cell_type": "code",
   "execution_count": 10,
   "metadata": {},
   "outputs": [
    {
     "name": "stdout",
     "output_type": "stream",
     "text": [
      "<class 'pandas.core.frame.DataFrame'>\n",
      "DatetimeIndex: 1982 entries, 2017-01-03 00:00:00+00:00 to 2024-11-15 00:00:00+00:00\n",
      "Data columns (total 6 columns):\n",
      " #   Column             Non-Null Count  Dtype  \n",
      "---  ------             --------------  -----  \n",
      " 0   (Adj Close, TSLA)  1982 non-null   float64\n",
      " 1   (Close, TSLA)      1982 non-null   float64\n",
      " 2   (High, TSLA)       1982 non-null   float64\n",
      " 3   (Low, TSLA)        1982 non-null   float64\n",
      " 4   (Open, TSLA)       1982 non-null   float64\n",
      " 5   (Volume, TSLA)     1982 non-null   int64  \n",
      "dtypes: float64(5), int64(1)\n",
      "memory usage: 108.4 KB\n"
     ]
    }
   ],
   "source": [
    "df.info()"
   ]
  },
  {
   "cell_type": "markdown",
   "metadata": {},
   "source": [
    "plot closing price"
   ]
  },
  {
   "cell_type": "code",
   "execution_count": 13,
   "metadata": {},
   "outputs": [
    {
     "data": {
      "image/png": "[encoded data removed]",
      "text/plain": [
       "<Figure size 1400x500 with 1 Axes>"
      ]
     },
     "metadata": {},
     "output_type": "display_data"
    }
   ],
   "source": [
    "plt.figure(figsize=(14,5))\n",
    "plt.plot(df['Close'])\n",
    "plt.xlabel('Date')\n",
    "plt.ylabel('closing price')\n",
    "plt.title('TSLA closing history')\n",
    "plt.show()"
   ]
  },
  {
   "cell_type": "code",
   "execution_count": 27,
   "metadata": {},
   "outputs": [
    {
     "data": {
      "text/plain": [
       "1586"
      ]
     },
     "execution_count": 27,
     "metadata": {},
     "output_type": "execute_result"
    }
   ],
   "source": [
    "# only keeping close column\n",
    "df2 = df['Close']\n",
    "# covert it to numpy array\n",
    "df3 =df2.values\n",
    "# get training data length\n",
    "trainingdf_length = math.ceil(len(df3)*.8)\n",
    "trainingdf_length"
   ]
  },
  {
   "cell_type": "code",
   "execution_count": 28,
   "metadata": {},
   "outputs": [
    {
     "data": {
      "text/plain": [
       "array([[0.00636789],\n",
       "       [0.00804277],\n",
       "       [0.00800257],\n",
       "       ...,\n",
       "       [0.7996928 ],\n",
       "       [0.75180801],\n",
       "       [0.77577555]])"
      ]
     },
     "execution_count": 28,
     "metadata": {},
     "output_type": "execute_result"
    }
   ],
   "source": [
    "#scaling the data\n",
    "scaler = MinMaxScaler(feature_range=(0,1))\n",
    "scaled_df = scaler.fit_transform(df3)\n",
    "scaled_df"
   ]
  },
  {
   "cell_type": "code",
   "execution_count": 34,
   "metadata": {},
   "outputs": [
    {
     "name": "stdout",
     "output_type": "stream",
     "text": [
      "[array([0.00636789, 0.00804277, 0.00800257, 0.0083811 , 0.0087613 ,\n",
      "       0.00852514, 0.00850169, 0.00847824, 0.00984494, 0.00948149,\n",
      "       0.00994711, 0.01085155, 0.011014  , 0.01171578, 0.01266879,\n",
      "       0.01264534, 0.01231706, 0.01239076, 0.01200219, 0.01221992,\n",
      "       0.01176938, 0.01215628, 0.01211943, 0.01319805, 0.01314948,\n",
      "       0.01391992, 0.01511244, 0.01511746, 0.0170218 , 0.01708544,\n",
      "       0.01688111, 0.01507057, 0.01561992, 0.01648416, 0.01583431,\n",
      "       0.01289992, 0.01306908, 0.01126524, 0.01189499, 0.01190002,\n",
      "       0.01197706, 0.01215963, 0.01209933, 0.01166051, 0.01137243,\n",
      "       0.01104248, 0.01083982, 0.01125519, 0.01323657, 0.01285638,\n",
      "       0.0139149 , 0.01382278, 0.01389312, 0.01201056, 0.01273579,\n",
      "       0.01269726, 0.01410081, 0.01528328, 0.01649421, 0.01648249,\n",
      "       0.01657293, 0.01663658, 0.02002318, 0.02089077, 0.01943363,\n",
      "       0.02005333, 0.02069648, 0.02234624, 0.02172989, 0.0197418 ,\n",
      "       0.02094102, 0.02051225, 0.02031294, 0.0211956 , 0.02069146,\n",
      "       0.021209  , 0.02161599, 0.02258072, 0.02197442, 0.02171648,\n",
      "       0.02262762, 0.02409481, 0.02343491, 0.02211678, 0.01951067,\n",
      "       0.02166959, 0.0214753 , 0.02383186, 0.02449511, 0.02414004])]\n",
      "[0.024426437697172627]\n",
      "\n"
     ]
    }
   ],
   "source": [
    "# creating train data set\n",
    "train_df =scaled_df[0:trainingdf_length,:]\n",
    "#splittting data into train and test\n",
    "x_train = []\n",
    "y_train = []\n",
    "\n",
    "for i in range(90,trainingdf_length):\n",
    "    x_train.append(train_df[i-90:i,0])\n",
    "    y_train.append(train_df[i,0])\n",
    "    if i<=90:\n",
    "        print(x_train)\n",
    "        print(y_train)\n",
    "        print()\n"
   ]
  },
  {
   "cell_type": "code",
   "execution_count": 35,
   "metadata": {},
   "outputs": [],
   "source": [
    "# convert x_train adn y_train to numpy array\n",
    "\n",
    "x_train, y_train = np.array(x_train), np.array(y_train)\n"
   ]
  },
  {
   "cell_type": "code",
   "execution_count": 39,
   "metadata": {},
   "outputs": [
    {
     "data": {
      "text/plain": [
       "(1496, 90, 1)"
      ]
     },
     "execution_count": 39,
     "metadata": {},
     "output_type": "execute_result"
    }
   ],
   "source": [
    "# reshaping data\n",
    "\n",
    "x_train =np.reshape(x_train,(x_train.shape[0],x_train.shape[1],1))\n",
    "x_train.shape"
   ]
  },
  {
   "cell_type": "code",
   "execution_count": 68,
   "metadata": {},
   "outputs": [
    {
     "name": "stderr",
     "output_type": "stream",
     "text": [
      "/Users/raghul/Desktop/pandas_project/raaghul/lib/python3.12/site-packages/keras/src/layers/rnn/rnn.py:204: UserWarning: Do not pass an `input_shape`/`input_dim` argument to a layer. When using Sequential models, prefer using an `Input(shape)` object as the first layer in the model instead.\n",
      "  super().__init__(**kwargs)\n"
     ]
    }
   ],
   "source": [
    "# BuilDing the LSTM model\n",
    "model =Sequential() \n",
    "model.add(LSTM(50, return_sequences=True, input_shape=(x_train.shape[1], 1)))\n",
    "model.add(LSTM(50, return_sequences=False))\n",
    "model.add(Dense(25))          \n",
    "model.add(Dense(1))\n",
    "          "
   ]
  },
  {
   "cell_type": "code",
   "execution_count": 69,
   "metadata": {},
   "outputs": [],
   "source": [
    "# compiling the model\n",
    "model.compile(optimizer = 'adam',loss='mean_squared_error')"
   ]
  },
  {
   "cell_type": "code",
   "execution_count": 70,
   "metadata": {},
   "outputs": [
    {
     "name": "stdout",
     "output_type": "stream",
     "text": [
      "\u001b[1m1496/1496\u001b[0m \u001b[32m━━━━━━━━━━━━━━━━━━━━\u001b[0m\u001b[37m\u001b[0m \u001b[1m18s\u001b[0m 11ms/step - loss: 0.0056\n"
     ]
    },
    {
     "data": {
      "text/plain": [
       "<keras.src.callbacks.history.History at 0x29203bc20>"
      ]
     },
     "execution_count": 70,
     "metadata": {},
     "output_type": "execute_result"
    }
   ],
   "source": [
    "#training the model\n",
    "model.fit(x_train,y_train,batch_size=1,epochs=1)\n"
   ]
  },
  {
   "cell_type": "code",
   "execution_count": 75,
   "metadata": {},
   "outputs": [],
   "source": [
    "# creating testing data set\n",
    "test_df = scaled_df[trainingdf_length - 90:,:]\n",
    "x_test = []\n",
    "y_test = df3[trainingdf_length:,:]\n",
    "\n",
    "for i in range(90, len(test_df)):\n",
    "    x_test.append(test_df[i-90:i,0])\n"
   ]
  },
  {
   "cell_type": "code",
   "execution_count": 76,
   "metadata": {},
   "outputs": [],
   "source": [
    "# reshaping the data\n",
    "x_test = np.array(x_test)\n",
    "x_test = np.reshape(x_test, (x_test.shape[0], x_test.shape[1], 1))"
   ]
  },
  {
   "cell_type": "code",
   "execution_count": 78,
   "metadata": {},
   "outputs": [
    {
     "name": "stdout",
     "output_type": "stream",
     "text": [
      "\u001b[1m13/13\u001b[0m \u001b[32m━━━━━━━━━━━━━━━━━━━━\u001b[0m\u001b[37m\u001b[0m \u001b[1m0s\u001b[0m 7ms/step\n"
     ]
    }
   ],
   "source": [
    "# getting predicted closing values\n",
    "Answer = model.predict(x_test)\n",
    "Answer = scaler.inverse_transform(Answer)"
   ]
  },
  {
   "cell_type": "code",
   "execution_count": 85,
   "metadata": {},
   "outputs": [
    {
     "data": {
      "text/html": [
       "<div>\n",
       "<style scoped>\n",
       "    .dataframe tbody tr th:only-of-type {\n",
       "        vertical-align: middle;\n",
       "    }\n",
       "\n",
       "    .dataframe tbody tr th {\n",
       "        vertical-align: top;\n",
       "    }\n",
       "\n",
       "    .dataframe thead th {\n",
       "        text-align: right;\n",
       "    }\n",
       "</style>\n",
       "<table border=\"1\" class=\"dataframe\">\n",
       "  <thead>\n",
       "    <tr style=\"text-align: right;\">\n",
       "      <th>Ticker</th>\n",
       "      <th>TSLA</th>\n",
       "      <th>Predicted values</th>\n",
       "    </tr>\n",
       "    <tr>\n",
       "      <th>Date</th>\n",
       "      <th></th>\n",
       "      <th></th>\n",
       "    </tr>\n",
       "  </thead>\n",
       "  <tbody>\n",
       "    <tr>\n",
       "      <th>2023-04-24 00:00:00+00:00</th>\n",
       "      <td>162.550003</td>\n",
       "      <td>170.477386</td>\n",
       "    </tr>\n",
       "    <tr>\n",
       "      <th>2023-04-25 00:00:00+00:00</th>\n",
       "      <td>160.669998</td>\n",
       "      <td>166.858826</td>\n",
       "    </tr>\n",
       "    <tr>\n",
       "      <th>2023-04-26 00:00:00+00:00</th>\n",
       "      <td>153.750000</td>\n",
       "      <td>163.531067</td>\n",
       "    </tr>\n",
       "    <tr>\n",
       "      <th>2023-04-27 00:00:00+00:00</th>\n",
       "      <td>160.190002</td>\n",
       "      <td>159.870758</td>\n",
       "    </tr>\n",
       "    <tr>\n",
       "      <th>2023-04-28 00:00:00+00:00</th>\n",
       "      <td>164.309998</td>\n",
       "      <td>157.537735</td>\n",
       "    </tr>\n",
       "    <tr>\n",
       "      <th>...</th>\n",
       "      <td>...</td>\n",
       "      <td>...</td>\n",
       "    </tr>\n",
       "    <tr>\n",
       "      <th>2024-11-11 00:00:00+00:00</th>\n",
       "      <td>350.000000</td>\n",
       "      <td>266.937805</td>\n",
       "    </tr>\n",
       "    <tr>\n",
       "      <th>2024-11-12 00:00:00+00:00</th>\n",
       "      <td>328.489990</td>\n",
       "      <td>283.749481</td>\n",
       "    </tr>\n",
       "    <tr>\n",
       "      <th>2024-11-13 00:00:00+00:00</th>\n",
       "      <td>330.239990</td>\n",
       "      <td>295.976990</td>\n",
       "    </tr>\n",
       "    <tr>\n",
       "      <th>2024-11-14 00:00:00+00:00</th>\n",
       "      <td>311.179993</td>\n",
       "      <td>304.680786</td>\n",
       "    </tr>\n",
       "    <tr>\n",
       "      <th>2024-11-15 00:00:00+00:00</th>\n",
       "      <td>320.720001</td>\n",
       "      <td>307.028259</td>\n",
       "    </tr>\n",
       "  </tbody>\n",
       "</table>\n",
       "<p>396 rows × 2 columns</p>\n",
       "</div>"
      ],
      "text/plain": [
       "Ticker                           TSLA  Predicted values\n",
       "Date                                                   \n",
       "2023-04-24 00:00:00+00:00  162.550003        170.477386\n",
       "2023-04-25 00:00:00+00:00  160.669998        166.858826\n",
       "2023-04-26 00:00:00+00:00  153.750000        163.531067\n",
       "2023-04-27 00:00:00+00:00  160.190002        159.870758\n",
       "2023-04-28 00:00:00+00:00  164.309998        157.537735\n",
       "...                               ...               ...\n",
       "2024-11-11 00:00:00+00:00  350.000000        266.937805\n",
       "2024-11-12 00:00:00+00:00  328.489990        283.749481\n",
       "2024-11-13 00:00:00+00:00  330.239990        295.976990\n",
       "2024-11-14 00:00:00+00:00  311.179993        304.680786\n",
       "2024-11-15 00:00:00+00:00  320.720001        307.028259\n",
       "\n",
       "[396 rows x 2 columns]"
      ]
     },
     "execution_count": 85,
     "metadata": {},
     "output_type": "execute_result"
    }
   ],
   "source": [
    "# measuring RMSE\n",
    "rmse = np.sqrt(np.mean(Answer - y_test)**2)\n",
    "rmse\n",
    "valid"
   ]
  },
  {
   "cell_type": "code",
   "execution_count": 87,
   "metadata": {},
   "outputs": [
    {
     "name": "stderr",
     "output_type": "stream",
     "text": [
      "/var/folders/63/f458bmd11lxb90nqcxgfv6qw0000gn/T/ipykernel_68299/1209568940.py:5: SettingWithCopyWarning: \n",
      "A value is trying to be set on a copy of a slice from a DataFrame.\n",
      "Try using .loc[row_indexer,col_indexer] = value instead\n",
      "\n",
      "See the caveats in the documentation: https://pandas.pydata.org/pandas-docs/stable/user_guide/indexing.html#returning-a-view-versus-a-copy\n",
      "  valid['Predicted values'] = Answer\n"
     ]
    },
    {
     "data": {
      "image/png": "[encoded data removed]",
      "text/plain": [
       "<Figure size 1400x500 with 1 Axes>"
      ]
     },
     "metadata": {},
     "output_type": "display_data"
    }
   ],
   "source": [
    "# Plotting the data\n",
    "\n",
    "train = df2[:trainingdf_length]\n",
    "valid = df2[trainingdf_length:]\n",
    "valid['Predicted values'] = Answer \n",
    "plt.figure(figsize =(14,5))\n",
    "plt.title('Lstm model predictions')\n",
    "plt.xlabel('Date')\n",
    "plt.ylabel('Closing price ')\n",
    "plt.plot(train['TSLA'])\n",
    "plt.plot(valid[['TSLA','Predicted values']])\n",
    "plt.legend(['Train','valid','Predicted '],loc = 'lower right')\n",
    "plt.show()"
   ]
  },
  {
   "cell_type": "code",
   "execution_count": 88,
   "metadata": {},
   "outputs": [
    {
     "data": {
      "text/html": [
       "<div>\n",
       "<style scoped>\n",
       "    .dataframe tbody tr th:only-of-type {\n",
       "        vertical-align: middle;\n",
       "    }\n",
       "\n",
       "    .dataframe tbody tr th {\n",
       "        vertical-align: top;\n",
       "    }\n",
       "\n",
       "    .dataframe thead th {\n",
       "        text-align: right;\n",
       "    }\n",
       "</style>\n",
       "<table border=\"1\" class=\"dataframe\">\n",
       "  <thead>\n",
       "    <tr style=\"text-align: right;\">\n",
       "      <th>Ticker</th>\n",
       "      <th>TSLA</th>\n",
       "      <th>Predicted values</th>\n",
       "    </tr>\n",
       "    <tr>\n",
       "      <th>Date</th>\n",
       "      <th></th>\n",
       "      <th></th>\n",
       "    </tr>\n",
       "  </thead>\n",
       "  <tbody>\n",
       "    <tr>\n",
       "      <th>2023-04-24 00:00:00+00:00</th>\n",
       "      <td>162.550003</td>\n",
       "      <td>170.477386</td>\n",
       "    </tr>\n",
       "    <tr>\n",
       "      <th>2023-04-25 00:00:00+00:00</th>\n",
       "      <td>160.669998</td>\n",
       "      <td>166.858826</td>\n",
       "    </tr>\n",
       "    <tr>\n",
       "      <th>2023-04-26 00:00:00+00:00</th>\n",
       "      <td>153.750000</td>\n",
       "      <td>163.531067</td>\n",
       "    </tr>\n",
       "    <tr>\n",
       "      <th>2023-04-27 00:00:00+00:00</th>\n",
       "      <td>160.190002</td>\n",
       "      <td>159.870758</td>\n",
       "    </tr>\n",
       "    <tr>\n",
       "      <th>2023-04-28 00:00:00+00:00</th>\n",
       "      <td>164.309998</td>\n",
       "      <td>157.537735</td>\n",
       "    </tr>\n",
       "    <tr>\n",
       "      <th>...</th>\n",
       "      <td>...</td>\n",
       "      <td>...</td>\n",
       "    </tr>\n",
       "    <tr>\n",
       "      <th>2024-11-11 00:00:00+00:00</th>\n",
       "      <td>350.000000</td>\n",
       "      <td>266.937805</td>\n",
       "    </tr>\n",
       "    <tr>\n",
       "      <th>2024-11-12 00:00:00+00:00</th>\n",
       "      <td>328.489990</td>\n",
       "      <td>283.749481</td>\n",
       "    </tr>\n",
       "    <tr>\n",
       "      <th>2024-11-13 00:00:00+00:00</th>\n",
       "      <td>330.239990</td>\n",
       "      <td>295.976990</td>\n",
       "    </tr>\n",
       "    <tr>\n",
       "      <th>2024-11-14 00:00:00+00:00</th>\n",
       "      <td>311.179993</td>\n",
       "      <td>304.680786</td>\n",
       "    </tr>\n",
       "    <tr>\n",
       "      <th>2024-11-15 00:00:00+00:00</th>\n",
       "      <td>320.720001</td>\n",
       "      <td>307.028259</td>\n",
       "    </tr>\n",
       "  </tbody>\n",
       "</table>\n",
       "<p>396 rows × 2 columns</p>\n",
       "</div>"
      ],
      "text/plain": [
       "Ticker                           TSLA  Predicted values\n",
       "Date                                                   \n",
       "2023-04-24 00:00:00+00:00  162.550003        170.477386\n",
       "2023-04-25 00:00:00+00:00  160.669998        166.858826\n",
       "2023-04-26 00:00:00+00:00  153.750000        163.531067\n",
       "2023-04-27 00:00:00+00:00  160.190002        159.870758\n",
       "2023-04-28 00:00:00+00:00  164.309998        157.537735\n",
       "...                               ...               ...\n",
       "2024-11-11 00:00:00+00:00  350.000000        266.937805\n",
       "2024-11-12 00:00:00+00:00  328.489990        283.749481\n",
       "2024-11-13 00:00:00+00:00  330.239990        295.976990\n",
       "2024-11-14 00:00:00+00:00  311.179993        304.680786\n",
       "2024-11-15 00:00:00+00:00  320.720001        307.028259\n",
       "\n",
       "[396 rows x 2 columns]"
      ]
     },
     "execution_count": 88,
     "metadata": {},
     "output_type": "execute_result"
    }
   ],
   "source": [
    "# Actual vs predicted closing price\n",
    "valid"
   ]
  }
 ],
 "metadata": {
  "kernelspec": {
   "display_name": "raaghul",
   "language": "python",
   "name": "python3"
  },
  "language_info": {
   "codemirror_mode": {
    "name": "ipython",
    "version": 3
   },
   "file_extension": ".py",
   "mimetype": "text/x-python",
   "name": "python",
   "nbconvert_exporter": "python",
   "pygments_lexer": "ipython3",
   "version": "3.12.1"
  }
 },
 "nbformat": 4,
 "nbformat_minor": 2
}
